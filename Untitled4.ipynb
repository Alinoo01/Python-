{
  "nbformat": 4,
  "nbformat_minor": 0,
  "metadata": {
    "colab": {
      "name": "Untitled4.ipynb",
      "provenance": []
    },
    "kernelspec": {
      "name": "python3",
      "display_name": "Python 3"
    },
    "language_info": {
      "name": "python"
    }
  },
  "cells": [
    {
      "cell_type": "code",
      "execution_count": 1,
      "metadata": {
        "colab": {
          "base_uri": "https://localhost:8080/"
        },
        "id": "Efh_CB6Rw9_x",
        "outputId": "c5cc59ea-fece-4eea-be9f-5f8995c8e74e"
      },
      "outputs": [
        {
          "output_type": "stream",
          "name": "stdout",
          "text": [
            "3\n",
            "7\n",
            "9\n",
            "19\n"
          ]
        }
      ],
      "source": [
        "''' Python program to print all odd numbers in a list'''\n",
        "list1 = [3,7,9,12,16,22,18,19]\n",
        "for num in list1:\n",
        "    if num % 2 != 0:\n",
        "       print(num)\n"
      ]
    },
    {
      "cell_type": "code",
      "source": [
        "'''Python pogram to reverse a list in two ways'''\n",
        "list  = [10,20,30,40,50]\n",
        "list.reverse()\n",
        "print(list)"
      ],
      "metadata": {
        "colab": {
          "base_uri": "https://localhost:8080/"
        },
        "id": "qKAWEd-OxDyn",
        "outputId": "a9085d97-4cbe-4f46-e95b-2f6dee780f7b"
      },
      "execution_count": 2,
      "outputs": [
        {
          "output_type": "stream",
          "name": "stdout",
          "text": [
            "[50, 40, 30, 20, 10]\n"
          ]
        }
      ]
    },
    {
      "cell_type": "code",
      "source": [
        "'''Python program to find the sum of list element'''\n",
        "list = [2,3,5,7,9]\n",
        "sum = 0\n",
        "for i in list:\n",
        "  sum = sum+ i\n",
        "  print(sum)"
      ],
      "metadata": {
        "colab": {
          "base_uri": "https://localhost:8080/"
        },
        "id": "uMzGTx0yxHmB",
        "outputId": "d49930b1-7315-4818-c1df-5d9d0202ffb5"
      },
      "execution_count": 3,
      "outputs": [
        {
          "output_type": "stream",
          "name": "stdout",
          "text": [
            "2\n",
            "5\n",
            "10\n",
            "17\n",
            "26\n"
          ]
        }
      ]
    },
    {
      "cell_type": "code",
      "source": [
        "'''Python program to sort characters in descending order'''\n",
        "sorting_char = ['a' , 'z' , 'k' , 'y' , 'i']\n",
        "sorting_char.sort(reverse=True)\n",
        "print(sorting_char)"
      ],
      "metadata": {
        "colab": {
          "base_uri": "https://localhost:8080/"
        },
        "id": "PH4ZkwEhxKln",
        "outputId": "4f4b7768-a171-4e3d-e7a4-6de49e6a3445"
      },
      "execution_count": 4,
      "outputs": [
        {
          "output_type": "stream",
          "name": "stdout",
          "text": [
            "['z', 'y', 'k', 'i', 'a']\n"
          ]
        }
      ]
    },
    {
      "cell_type": "code",
      "source": [
        "'''Python program to find top two max numbers in a list'''\n",
        "List = [100,10,50,108,121,7,55]\n",
        "\n",
        "sorting = sorted(List) \n",
        "\n",
        "print(\"Max no:\" , sorting[-1] )\n",
        "print(\"Second Highest: \" , sorting[-2] )\n"
      ],
      "metadata": {
        "colab": {
          "base_uri": "https://localhost:8080/"
        },
        "id": "SKG6oxpqxN6T",
        "outputId": "a421ec9e-ea9d-4980-ec68-82abb4daef1b"
      },
      "execution_count": 5,
      "outputs": [
        {
          "output_type": "stream",
          "name": "stdout",
          "text": [
            "Max no: 121\n",
            "Second Highest:  108\n"
          ]
        }
      ]
    },
    {
      "cell_type": "code",
      "source": [
        "'''Write a program to find second highest number in an integer list'''\n",
        "list1 = [4,67,23,77,98,101]\n",
        "list1.sort()\n",
        " \n",
        "print(\"Second largest element is:\", list1[-2])"
      ],
      "metadata": {
        "colab": {
          "base_uri": "https://localhost:8080/"
        },
        "id": "hlk1d0T2xSjx",
        "outputId": "6aba8971-d4d2-4e22-9651-84fbae18011d"
      },
      "execution_count": 6,
      "outputs": [
        {
          "output_type": "stream",
          "name": "stdout",
          "text": [
            "Second largest element is: 98\n"
          ]
        }
      ]
    },
    {
      "cell_type": "code",
      "source": [
        "'''Python Program to check if a given character is a vowel or constant'''\n",
        "checking_char = input(\"Enter any Character : \")\n",
        "if checking_char in ('a', 'e', 'i', 'o', 'u'):\n",
        "    print(checking_char,\" is a vowel.\")\n",
        "else:\n",
        "    print(checking_char,\" is a consonant.\")"
      ],
      "metadata": {
        "colab": {
          "base_uri": "https://localhost:8080/"
        },
        "id": "mTuz-2K4xWuh",
        "outputId": "a6fd98d9-234e-42c6-b9cd-539117baac80"
      },
      "execution_count": 7,
      "outputs": [
        {
          "output_type": "stream",
          "name": "stdout",
          "text": [
            "Enter any Character : e\n",
            "e  is a vowel.\n"
          ]
        }
      ]
    },
    {
      "cell_type": "code",
      "source": [
        "'''merging two list'''\n",
        "list1 = []\n",
        "for i in range (5):\n",
        "     num=int(input(\"Enter an integer : \"))\n",
        "     list1.append(num)\n",
        "list2 = []\n",
        "for i in range (5):\n",
        "     num=int(input(\"Enter an integer : \"))\n",
        "     list2.append(num)\n",
        "print(\"List 1 : \",list1)\n",
        "print(\"List 2: \",list2)\n",
        "\n",
        "for i in list2 :\n",
        "    list1.append(i)\n",
        "print (\" Merging List 1 and List 2 : \" + str(list1))\n"
      ],
      "metadata": {
        "colab": {
          "base_uri": "https://localhost:8080/"
        },
        "id": "v_diA1L4xasW",
        "outputId": "394b9464-d7fe-4fd7-b342-f0958e2ef98b"
      },
      "execution_count": 8,
      "outputs": [
        {
          "output_type": "stream",
          "name": "stdout",
          "text": [
            "Enter an integer : 2\n",
            "Enter an integer : 4\n",
            "Enter an integer : 3\n",
            "Enter an integer : 15\n",
            "Enter an integer : 19\n",
            "Enter an integer : 34\n",
            "Enter an integer : 66\n",
            "Enter an integer : 73\n",
            "Enter an integer : 22\n",
            "Enter an integer : 78\n",
            "List 1 :  [2, 4, 3, 15, 19]\n",
            "List 2:  [34, 66, 73, 22, 78]\n",
            " Merging List 1 and List 2 : [2, 4, 3, 15, 19, 34, 66, 73, 22, 78]\n"
          ]
        }
      ]
    },
    {
      "cell_type": "code",
      "source": [
        "'''Python Program to calculate factorial''' \n",
        "ip= int(input(\"Enter a number: \"))\n",
        "fact = 1\n",
        "\n",
        "if ip < 0:\n",
        "   print(\"Factorial does not exist for negative numbers\")\n",
        "elif ip == 0:\n",
        "   print(\"The factorial of 0 is 1\")\n",
        "else:\n",
        "   for i in range(1,ip + 1):\n",
        "       fact=fact*i\n",
        "   print(\"The factorial of\",ip,\"=\",fact)\n"
      ],
      "metadata": {
        "colab": {
          "base_uri": "https://localhost:8080/"
        },
        "id": "lpGWCRRRxldU",
        "outputId": "840716d6-f3c0-47c6-ef54-c0ca76f90702"
      },
      "execution_count": 11,
      "outputs": [
        {
          "output_type": "stream",
          "name": "stdout",
          "text": [
            "Enter a number: 8\n",
            "The factorial of 8 = 40320\n"
          ]
        }
      ]
    },
    {
      "cell_type": "code",
      "source": [
        "'''Program to remove repeated characters from a string'''\n",
        "string_ip = input(\"Enter Your Name : \")\n",
        "string_list = []\n",
        "for i in range(len(string_ip)):\n",
        "    string_list.append(string_ip[i])\n",
        "list2 = []\n",
        "j = 0\n",
        "for i in range(len(string_list)):\n",
        "    if string_ip[i] not in list2:\n",
        "        list2.insert(j, string_ip[i])\n",
        "        j = j+1\n",
        "print(\"Original Name : \", string_ip)\n",
        "string_ip = \"\"\n",
        "string_ip = string_ip.join(list2)\n",
        "print(\"Removing repeated character : \", string_ip)"
      ],
      "metadata": {
        "colab": {
          "base_uri": "https://localhost:8080/"
        },
        "id": "R3hdiokpxrpp",
        "outputId": "d64eb878-4ecc-487d-8221-0a703919b3aa"
      },
      "execution_count": 10,
      "outputs": [
        {
          "output_type": "stream",
          "name": "stdout",
          "text": [
            "Enter Your Name : alina\n",
            "Original Name :  alina\n",
            "Removing repeated character :  alin\n"
          ]
        }
      ]
    }
  ]
}